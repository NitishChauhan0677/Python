{
 "cells": [
  {
   "cell_type": "markdown",
   "id": "beb64f85",
   "metadata": {},
   "source": [
    "## Exception Handling in Python \n"
   ]
  },
  {
   "cell_type": "code",
   "execution_count": 6,
   "id": "d63d87b6",
   "metadata": {},
   "outputs": [
    {
     "name": "stdout",
     "output_type": "stream",
     "text": [
      "0.5\n",
      "Inside Try\n",
      "Rest of the code\n"
     ]
    }
   ],
   "source": [
    "a = 10\n",
    "b = 20\n",
    "try:\n",
    "    d = a/b\n",
    "    print(d)\n",
    "    print(\"Inside Try\")\n",
    "except ZeroDivisionError:\n",
    "    print(\"Division by zero is not allowed\")\n",
    "\n",
    "print(\"Rest of the code\")"
   ]
  },
  {
   "cell_type": "code",
   "execution_count": 5,
   "id": "b107eefd",
   "metadata": {},
   "outputs": [
    {
     "name": "stdout",
     "output_type": "stream",
     "text": [
      "0.8333333333333334\n",
      "Inside Try\n",
      "Rest of the code\n"
     ]
    }
   ],
   "source": [
    "a = float(input(\"Enter the Digit or Number:\"))\n",
    "b = float(input(\"Enter the Digit or Number:\"))\n",
    "try:\n",
    "    d = a/b\n",
    "    print(d)\n",
    "    print(\"Inside Try\")\n",
    "except ZeroDivisionError:\n",
    "    print(\"Division by zero is not allowed\")\n",
    "\n",
    "print(\"Rest of the code\")"
   ]
  },
  {
   "cell_type": "code",
   "execution_count": 11,
   "id": "e4c16931",
   "metadata": {},
   "outputs": [
    {
     "name": "stdout",
     "output_type": "stream",
     "text": [
      "Division by zero is not allowed\n",
      "Rest of the code\n"
     ]
    }
   ],
   "source": [
    "#Using Else \n",
    "a = 10\n",
    "b = 0\n",
    "try:\n",
    "    d = a/b\n",
    "    print(d)\n",
    "    print(\"Inside Try\")\n",
    "except ZeroDivisionError:\n",
    "    print(\"Division by zero is not allowed\")\n",
    "\n",
    "else:\n",
    "    print(\"Inside Else\")\n",
    "\n",
    "print(\"Rest of the code\")"
   ]
  },
  {
   "cell_type": "code",
   "execution_count": null,
   "id": "6ae63de5",
   "metadata": {},
   "outputs": [
    {
     "name": "stdout",
     "output_type": "stream",
     "text": [
      "0.5\n",
      "Inside Try\n",
      "Inside Else\n",
      "Inside Finally\n",
      "Rest of the code\n"
     ]
    }
   ],
   "source": [
    "#USing Finally\n",
    "a = 10\n",
    "b = 20\n",
    "try:\n",
    "    d = a/b\n",
    "    print(d)\n",
    "    print(\"Inside Try\")\n",
    "except ZeroDivisionError:\n",
    "    print(\"Division by zero is not allowed\")\n",
    "\n",
    "else:\n",
    "    print(\"Inside Else\")\n",
    "\n",
    "finally:  # This block will always be executed we use finally block to clean up resources \n",
    "    print(\"Inside Finally\")\n",
    "print(\"Rest of the code\")"
   ]
  },
  {
   "cell_type": "code",
   "execution_count": 13,
   "id": "73ad2663",
   "metadata": {},
   "outputs": [
    {
     "name": "stdout",
     "output_type": "stream",
     "text": [
      "name 'g' is not defined\n",
      "Rest of the Code\n"
     ]
    }
   ],
   "source": [
    "a = 10\n",
    "b = 0\n",
    "try:\n",
    "    d = a/g\n",
    "    print(d)\n",
    "\n",
    "except (NameError, ZeroDivisionError) as obj:\n",
    "    print(obj)\n",
    "\n",
    "print('Rest of the Code')"
   ]
  },
  {
   "cell_type": "code",
   "execution_count": 25,
   "id": "7fedca9e",
   "metadata": {},
   "outputs": [
    {
     "name": "stdout",
     "output_type": "stream",
     "text": [
      "You are to young to vote\n"
     ]
    }
   ],
   "source": [
    "class TooYoungException(Exception):\n",
    "    def __init__(self,arg):\n",
    "        self.msg=arg\n",
    "class TooOldException(Exception):\n",
    "    def __init__(self,arg):\n",
    "        self.msg=arg\n",
    "\n",
    "age = int(input(\"Enter Age: \"))\n",
    "try:\n",
    "    if age>60:\n",
    "        raise TooYoungException(\"you are old\")\n",
    "    elif age>18:\n",
    "        raise TooOldException(\"Your age is perfect to vote\")\n",
    "    else:\n",
    "        print(\"You are to young to vote\")\n",
    "except (TooYoungException, TooOldException) as e:\n",
    "    print(\"Exception:\", e)\n"
   ]
  },
  {
   "cell_type": "markdown",
   "id": "cec2cbbc",
   "metadata": {},
   "source": [
    "## File Handeling in python"
   ]
  },
  {
   "cell_type": "code",
   "execution_count": 28,
   "id": "09bbe118",
   "metadata": {},
   "outputs": [
    {
     "name": "stdout",
     "output_type": "stream",
     "text": [
      "Writting Success\n",
      "hello world\n",
      "Python Programming is fun\n",
      "My name in Nitish Chauhan\n"
     ]
    }
   ],
   "source": [
    "f = open(\"Student.txt\", mode='w')\n",
    "f.write('hello world\\n')\n",
    "f.write('Python Programming is fun\\n')\n",
    "f.write('My name in Nitish Chauhan')\n",
    "f.close()\n",
    "print('Writting Success')\n",
    "\n",
    "f = open('Student.txt',mode='r')\n",
    "d = f.read()\n",
    "print(d)\n",
    "f.close()"
   ]
  },
  {
   "cell_type": "code",
   "execution_count": 32,
   "id": "fbcf0308",
   "metadata": {},
   "outputs": [
    {
     "name": "stdout",
     "output_type": "stream",
     "text": [
      "Name: Nitish\n",
      "Age: 22\n",
      "\n"
     ]
    }
   ],
   "source": [
    "f = open(\"Student.txt\", mode='w')\n",
    "n = input('Enter your name: ')\n",
    "a = int(input(\"Enter your age: \"))\n",
    "with open(\"Student.txt\",\"a\") as f:\n",
    "    f.write(f\"Name: {n}\\nAge: {a}\\n\")\n",
    "\n",
    "\n",
    "f = open('Student.txt',mode='r')\n",
    "d = f.read()\n",
    "print(d)\n",
    "f.close()"
   ]
  },
  {
   "cell_type": "code",
   "execution_count": null,
   "id": "f6893c01",
   "metadata": {},
   "outputs": [],
   "source": []
  }
 ],
 "metadata": {
  "kernelspec": {
   "display_name": "Python 3",
   "language": "python",
   "name": "python3"
  },
  "language_info": {
   "codemirror_mode": {
    "name": "ipython",
    "version": 3
   },
   "file_extension": ".py",
   "mimetype": "text/x-python",
   "name": "python",
   "nbconvert_exporter": "python",
   "pygments_lexer": "ipython3",
   "version": "3.13.5"
  }
 },
 "nbformat": 4,
 "nbformat_minor": 5
}
